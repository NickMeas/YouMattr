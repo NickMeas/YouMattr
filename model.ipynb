{
 "cells": [
  {
   "cell_type": "code",
   "execution_count": 2,
   "metadata": {},
   "outputs": [],
   "source": [
    "import tensorflow as tf\n",
    "from tensorflow.keras.layers import Input, Embedding, LSTM, LayerNormalization, Dense, Dropout\n",
    "from tensorflow.keras.models import Sequential\n",
    "import pandas as pd\n",
    "import numpy as np  \n",
    "import matplotlib.pyplot as pl\n",
    "import os"
   ]
  },
  {
   "cell_type": "code",
   "execution_count": 3,
   "metadata": {},
   "outputs": [],
   "source": [
    "BATCH_SIZE = 32\n",
    "LEARNING_RATE = 0.001\n",
    "EPOCH = 150\n",
    "VOCAB_SIZE = 0\n",
    "PATH = \"./data\""
   ]
  },
  {
   "cell_type": "markdown",
   "metadata": {},
   "source": [
    "### Data Preprocessing and Cleaning\n"
   ]
  },
  {
   "cell_type": "code",
   "execution_count": 8,
   "metadata": {},
   "outputs": [],
   "source": [
    "# parquet_data = pd.read_parquet(\"./data/train-00000-of-00001-991edb316b3098d3.parquet\")\n",
    "# parquet_data.to_csv(\"./data/cleaned/data.csv\")\n",
    "\n",
    "# with open('./data/json/cl_output_file.json', encoding='utf-8') as inputfile:\n",
    "#     df = pd.read_json(inputfile)\n",
    "\n",
    "# df.to_csv('./data/cleaned/cl_output_file.csv')\n",
    "\n",
    "# with open('./data/json/combined_dataset.json', encoding='utf-8') as inputfile:\n",
    "#     df = pd.read_json(inputfile)\n",
    "\n",
    "# df.to_csv('./data/cleaned/combined_dataset.csv')\n",
    "\n",
    "# with open('./data/json/intents_2.json', encoding='utf-8') as inputfile:\n",
    "#     df = pd.read_json(inputfile)\n",
    "\n",
    "# df.to_csv('./data/cleaned/intents_2.csv')\n",
    "\n",
    "# with open('./data/json/intents.json', encoding='utf-8') as inputfile:\n",
    "#     df = pd.read_json(inputfile)\n",
    "\n",
    "# df.to_csv('./data/cleaned/intents.csv')\n",
    "\n",
    "# with open('./data/json/MentalHealthDataset2.json', encoding='utf-8') as inputfile:\n",
    "#     df = pd.read_json(inputfile)\n",
    "\n",
    "# df.to_csv('./data/cleaned/MentalHealthDataset2.csv')"
   ]
  },
  {
   "cell_type": "markdown",
   "metadata": {},
   "source": [
    "### 2-layer LSTM model\n"
   ]
  },
  {
   "cell_type": "code",
   "execution_count": 5,
   "metadata": {},
   "outputs": [
    {
     "name": "stdout",
     "output_type": "stream",
     "text": [
      "Model: \"sequential\"\n",
      "_________________________________________________________________\n",
      " Layer (type)                Output Shape              Param #   \n",
      "=================================================================\n",
      " embedding (Embedding)       (None, 150, 100)          10000     \n",
      "                                                                 \n",
      " lstm (LSTM)                 (None, 150, 512)          1255424   \n",
      "                                                                 \n",
      " layer_normalization (LayerN  (None, 150, 512)         1024      \n",
      " ormalization)                                                   \n",
      "                                                                 \n",
      " lstm_1 (LSTM)               (None, 512)               2099200   \n",
      "                                                                 \n",
      " layer_normalization_1 (Laye  (None, 512)              1024      \n",
      " rNormalization)                                                 \n",
      "                                                                 \n",
      " dropout (Dropout)           (None, 512)               0         \n",
      "                                                                 \n",
      " dense (Dense)               (None, 100)               51300     \n",
      "                                                                 \n",
      "=================================================================\n",
      "Total params: 3,417,972\n",
      "Trainable params: 3,417,972\n",
      "Non-trainable params: 0\n",
      "_________________________________________________________________\n"
     ]
    }
   ],
   "source": [
    "\n",
    "model = Sequential()\n",
    "model.add(Input(shape = 150))\n",
    "model.add(Embedding(input_dim = 100, output_dim = 100))\n",
    "model.add(LSTM(512, return_sequences = True))\n",
    "model.add(LayerNormalization())\n",
    "model.add(LSTM(512))\n",
    "model.add(LayerNormalization())\n",
    "model.add(Dropout(0.2))\n",
    "model.add(Dense(100, activation='softmax'))\n",
    "model.compile(optimizer = tf.optimizers.Adam(learning_rate = LEARNING_RATE), loss ='sparse_categorical_crossentropy', metrics = ['accuracy'])\n",
    "model.summary()"
   ]
  },
  {
   "cell_type": "code",
   "execution_count": null,
   "metadata": {},
   "outputs": [],
   "source": []
  }
 ],
 "metadata": {
  "kernelspec": {
   "display_name": "youmattr",
   "language": "python",
   "name": "python3"
  },
  "language_info": {
   "codemirror_mode": {
    "name": "ipython",
    "version": 3
   },
   "file_extension": ".py",
   "mimetype": "text/x-python",
   "name": "python",
   "nbconvert_exporter": "python",
   "pygments_lexer": "ipython3",
   "version": "3.10.0"
  }
 },
 "nbformat": 4,
 "nbformat_minor": 2
}
