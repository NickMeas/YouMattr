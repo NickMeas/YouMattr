{
 "cells": [
  {
   "cell_type": "code",
   "execution_count": 1,
   "metadata": {},
   "outputs": [],
   "source": [
    "import tensorflow as tf\n",
    "from tensorflow.keras.layers import Input, Embedding, LSTM, LayerNormalization, Dense, Dropout\n",
    "from tensorflow.keras.models import Sequential, load_model\n",
    "from tensorflow.keras.preprocessing.text import Tokenizer\n",
    "from tensorflow.keras.preprocessing.sequence import pad_sequences\n",
    "from sklearn.preprocessing import LabelEncoder\n",
    "import pandas as pd\n",
    "import numpy as np  \n",
    "import json\n",
    "import random\n",
    "import re\n",
    "import random\n"
   ]
  },
  {
   "cell_type": "code",
   "execution_count": 2,
   "metadata": {},
   "outputs": [],
   "source": [
    "BATCH_SIZE = 32\n",
    "LEARNING_RATE = 0.001\n",
    "EPOCH = 150"
   ]
  },
  {
   "cell_type": "markdown",
   "metadata": {},
   "source": [
    "### Data Preprocessing and Cleaning\n"
   ]
  },
  {
   "cell_type": "code",
   "execution_count": 3,
   "metadata": {},
   "outputs": [],
   "source": [
    "# data cleaning and preprocessing method inspired by https://www.kaggle.com/code/jocelyndumlao/chatbot-for-mental-health-conversations\n",
    "with open(\"./data/json/intents_final.json\") as f:\n",
    "    dataset = json.load(f)\n",
    "    \n",
    "df = pd.DataFrame(dataset[\"intents\"])\n",
    "\n",
    "dic = {\"tag\":[], \"patterns\":[], \"responses\":[]}\n",
    "for i in range(len(df)):\n",
    "    patterns = df[df.index == i]['patterns'].values[0]\n",
    "    responses = df[df.index == i]['responses'].values[0]\n",
    "    tags = df[df.index == i]['tag'].values[0]\n",
    "    for j in range(len(patterns)):\n",
    "        dic['tag'].append(tags)\n",
    "        dic['patterns'].append(patterns[j])\n",
    "        dic['responses'].append(responses)\n",
    "        \n",
    "df = pd.DataFrame.from_dict(dic)\n"
   ]
  },
  {
   "cell_type": "code",
   "execution_count": 4,
   "metadata": {},
   "outputs": [
    {
     "name": "stdout",
     "output_type": "stream",
     "text": [
      "number of unique words =  828\n",
      "X shape =  (373, 143)\n",
      "y shape =  (373,)\n",
      "num of classes =  92\n"
     ]
    }
   ],
   "source": [
    "# word tokenization for patterns, which is input patterns expected from users\n",
    "tokenizer = Tokenizer(lower=True, split=' ')\n",
    "tokenizer.fit_on_texts(df['patterns'])\n",
    "tokenizer.get_config()\n",
    "\n",
    "VOCAB_SIZE = len(tokenizer.word_index)\n",
    "print('number of unique words = ', VOCAB_SIZE)\n",
    "\n",
    "patterns2seq = tokenizer.texts_to_sequences(df['patterns'])\n",
    "x = pad_sequences(patterns2seq, padding='post')\n",
    "print('X shape = ', x.shape)\n",
    "\n",
    "lbl_enc = LabelEncoder()\n",
    "y = lbl_enc.fit_transform(df['tag'])\n",
    "UNIQUE_WORDS = len(np.unique(y))\n",
    "print('y shape = ', y.shape)\n",
    "print('num of classes = ', UNIQUE_WORDS)\n"
   ]
  },
  {
   "cell_type": "markdown",
   "metadata": {},
   "source": [
    "### 2-layer LSTM model\n"
   ]
  },
  {
   "cell_type": "code",
   "execution_count": 110,
   "metadata": {},
   "outputs": [],
   "source": [
    "def create_model():\n",
    "    model = Sequential()\n",
    "    model.add(Input(shape = x.shape[1]))\n",
    "    model.add(Embedding(input_dim = VOCAB_SIZE+1, output_dim = 100, mask_zero = True))\n",
    "    model.add(LSTM(512, return_sequences = True))\n",
    "    model.add(LayerNormalization())\n",
    "    model.add(LSTM(512))\n",
    "    model.add(LayerNormalization())\n",
    "    model.add(Dropout(0.2))\n",
    "    model.add(Dense(UNIQUE_WORDS, activation='softmax'))\n",
    "    model.compile(optimizer = tf.optimizers.Adam(learning_rate = LEARNING_RATE), \n",
    "                  loss ='sparse_categorical_crossentropy', \n",
    "                  metrics = ['accuracy'])\n",
    "    return model\n",
    "\n",
    "    "
   ]
  },
  {
   "cell_type": "markdown",
   "metadata": {},
   "source": [
    "### Model Training\n"
   ]
  },
  {
   "cell_type": "code",
   "execution_count": 111,
   "metadata": {},
   "outputs": [
    {
     "name": "stdout",
     "output_type": "stream",
     "text": [
      "Epoch 1/150\n",
      "12/12 [==============================] - 12s 174ms/step - loss: 4.7918 - accuracy: 0.1105\n",
      "Epoch 2/150\n",
      "12/12 [==============================] - 2s 147ms/step - loss: 1.6597 - accuracy: 0.5930\n",
      "Epoch 3/150\n",
      "12/12 [==============================] - 2s 142ms/step - loss: 0.5406 - accuracy: 0.8625\n",
      "Epoch 4/150\n",
      "12/12 [==============================] - 2s 40ms/step - loss: 0.2310 - accuracy: 0.9434\n",
      "Epoch 5/150\n",
      "12/12 [==============================] - 2s 141ms/step - loss: 0.1157 - accuracy: 0.9784\n",
      "Epoch 6/150\n",
      "12/12 [==============================] - 2s 149ms/step - loss: 0.0889 - accuracy: 0.9704\n",
      "Epoch 7/150\n",
      "12/12 [==============================] - 2s 142ms/step - loss: 0.0708 - accuracy: 0.9865\n",
      "Epoch 8/150\n",
      "12/12 [==============================] - 2s 38ms/step - loss: 0.0603 - accuracy: 0.9892\n",
      "Epoch 9/150\n",
      "12/12 [==============================] - 2s 139ms/step - loss: 0.0651 - accuracy: 0.9892\n",
      "Epoch 10/150\n",
      "12/12 [==============================] - 2s 147ms/step - loss: 0.0262 - accuracy: 0.9946\n",
      "Epoch 11/150\n",
      "12/12 [==============================] - 2s 142ms/step - loss: 0.0483 - accuracy: 0.9919\n",
      "Epoch 12/150\n",
      "12/12 [==============================] - 2s 149ms/step - loss: 0.0366 - accuracy: 0.9919\n",
      "Epoch 13/150\n",
      "12/12 [==============================] - 2s 141ms/step - loss: 0.0466 - accuracy: 0.9892\n"
     ]
    }
   ],
   "source": [
    "model = create_model()\n",
    "model_history = model.fit(x=x,\n",
    "                          y=y,\n",
    "                          batch_size=BATCH_SIZE,\n",
    "                          callbacks=[tf.keras.callbacks.EarlyStopping(monitor='accuracy', patience=3, mode = \"max\")],\n",
    "                          epochs=EPOCH)\n",
    "model.save(\"./saved_model/best_model.h5\")"
   ]
  },
  {
   "cell_type": "markdown",
   "metadata": {},
   "source": [
    "### Chatbot Testing\n"
   ]
  },
  {
   "cell_type": "code",
   "execution_count": 5,
   "metadata": {},
   "outputs": [],
   "source": [
    "model = load_model(\"./model/saved_model/best_model.h5\")"
   ]
  },
  {
   "cell_type": "code",
   "execution_count": 9,
   "metadata": {},
   "outputs": [
    {
     "name": "stdout",
     "output_type": "stream",
     "text": [
      "1/1 [==============================] - 0s 244ms/step\n",
      "Wally: How were you feeling last week?\n",
      "1/1 [==============================] - 0s 42ms/step\n",
      "Wally: Hey! What's up\n"
     ]
    }
   ],
   "source": [
    "def wally(query):\n",
    "    text = []\n",
    "    txt = re.sub('[^a-zA-Z\\']', ' ', query)\n",
    "    txt = txt.lower()\n",
    "    txt = txt.split()\n",
    "    txt = \" \".join(txt)\n",
    "    text.append(txt)\n",
    "        \n",
    "    x_test = tokenizer.texts_to_sequences(text)\n",
    "    x_test = np.array(x_test).squeeze()\n",
    "    try:\n",
    "        x_test = pad_sequences([x_test], padding='post', maxlen=x.shape[1])\n",
    "    except:\n",
    "        x_test = pad_sequences([[x_test]], padding='post', maxlen=x.shape[1])\n",
    "    y_pred = model.predict(x_test)\n",
    "    y_pred = y_pred.argmax()\n",
    "    tag = lbl_enc.inverse_transform([y_pred])[0]\n",
    "    responses = df[df['tag'] == tag]['responses'].values[0]\n",
    "\n",
    "    return random.choice(responses)\n",
    "    \n",
    "while True:\n",
    "    user_input = input(\"User: \")\n",
    "    response = wally(user_input)\n",
    "    print(\"Wally: {}\".format(response))"
   ]
  },
  {
   "cell_type": "code",
   "execution_count": null,
   "metadata": {},
   "outputs": [],
   "source": []
  }
 ],
 "metadata": {
  "kernelspec": {
   "display_name": "youmattr",
   "language": "python",
   "name": "python3"
  },
  "language_info": {
   "codemirror_mode": {
    "name": "ipython",
    "version": 3
   },
   "file_extension": ".py",
   "mimetype": "text/x-python",
   "name": "python",
   "nbconvert_exporter": "python",
   "pygments_lexer": "ipython3",
   "version": "3.10.0"
  }
 },
 "nbformat": 4,
 "nbformat_minor": 2
}
